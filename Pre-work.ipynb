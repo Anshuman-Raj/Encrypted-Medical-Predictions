{
 "cells": [
  {
   "cell_type": "code",
   "execution_count": 1,
   "id": "c945abdd",
   "metadata": {},
   "outputs": [],
   "source": [
    "from sympy import isprime\n",
    "#Given two functions below will find the inverse modulo\n",
    "def egcd(num1, num2):\n",
    "    if num1 == 0:\n",
    "        return (num2, 0, 1)\n",
    "    else:\n",
    "        g, y, x = egcd(num2 % num1, num1)\n",
    "        return (g, x - (num2 // num1) * y, y)\n",
    "\n",
    "def modinv(a, m):\n",
    "    g, x, y = egcd(a, m)\n",
    "    if g != 1:\n",
    "        raise Exception('modular inverse does not exist')\n",
    "    else:\n",
    "        return x % m"
   ]
  },
  {
   "cell_type": "code",
   "execution_count": 2,
   "id": "d3ef27d6",
   "metadata": {},
   "outputs": [],
   "source": [
    "import random\n",
    "def getPrime(n1= random.randint(250,300), n2=random.randint(310,360)):\n",
    "    k=4\n",
    "    while(isprime(k)==False): \n",
    "        k = random.randint(2**n1, 2**n2)\n",
    "    return k\n",
    "    "
   ]
  },
  {
   "cell_type": "code",
   "execution_count": 3,
   "id": "c32773c8",
   "metadata": {},
   "outputs": [],
   "source": [
    "import phe\n",
    "from phe import paillier\n",
    "import json"
   ]
  },
  {
   "cell_type": "code",
   "execution_count": 74,
   "id": "bf1ba080",
   "metadata": {},
   "outputs": [],
   "source": [
    "pub_key, priv_key = paillier.generate_paillier_keypair(n_length=256)"
   ]
  },
  {
   "cell_type": "code",
   "execution_count": 114,
   "id": "b7cf6dde",
   "metadata": {},
   "outputs": [],
   "source": [
    "enc1=pub_key.encrypt(2)\n",
    "enc2=pub_key.encrypt(2)\n"
   ]
  },
  {
   "cell_type": "code",
   "execution_count": 115,
   "id": "b7e1a1ec",
   "metadata": {},
   "outputs": [
    {
     "name": "stdout",
     "output_type": "stream",
     "text": [
      "False\n"
     ]
    }
   ],
   "source": [
    "print((enc1).ciphertext()>enc2.ciphertext())"
   ]
  },
  {
   "cell_type": "code",
   "execution_count": 7,
   "id": "8cce8e29",
   "metadata": {},
   "outputs": [],
   "source": [
    "import rsa"
   ]
  },
  {
   "cell_type": "code",
   "execution_count": 8,
   "id": "78b9cb63",
   "metadata": {
    "scrolled": false
   },
   "outputs": [],
   "source": [
    "public_key, private_key=rsa.newkeys(512)"
   ]
  },
  {
   "cell_type": "code",
   "execution_count": 9,
   "id": "c6707491",
   "metadata": {},
   "outputs": [],
   "source": [
    "lst=[3727264081, 65537, 3349121513]\n",
    "e=lst[random.randint(0,2)]\n",
    "p, q = getPrime(), getPrime()\n",
    "N=p*q\n",
    "PHI=(p-1)*(q-1)\n",
    "dkey=modinv(e, PHI)"
   ]
  },
  {
   "cell_type": "code",
   "execution_count": 127,
   "id": "2a04e0cd",
   "metadata": {},
   "outputs": [
    {
     "name": "stdout",
     "output_type": "stream",
     "text": [
      "True\n"
     ]
    }
   ],
   "source": [
    "a=rsa.core.encrypt_int(42,e,N)\n",
    "b=rsa.core.encrypt_int(42,e,N)\n",
    "#print(a)\n",
    "print(a == b)"
   ]
  },
  {
   "cell_type": "code",
   "execution_count": 11,
   "id": "29b4904a",
   "metadata": {
    "scrolled": true
   },
   "outputs": [
    {
     "data": {
      "text/html": [
       "<div>\n",
       "<style scoped>\n",
       "    .dataframe tbody tr th:only-of-type {\n",
       "        vertical-align: middle;\n",
       "    }\n",
       "\n",
       "    .dataframe tbody tr th {\n",
       "        vertical-align: top;\n",
       "    }\n",
       "\n",
       "    .dataframe thead th {\n",
       "        text-align: right;\n",
       "    }\n",
       "</style>\n",
       "<table border=\"1\" class=\"dataframe\">\n",
       "  <thead>\n",
       "    <tr style=\"text-align: right;\">\n",
       "      <th></th>\n",
       "      <th>BI-RADS</th>\n",
       "      <th>Age</th>\n",
       "      <th>Shape</th>\n",
       "      <th>Margin</th>\n",
       "      <th>Density</th>\n",
       "      <th>Severity</th>\n",
       "    </tr>\n",
       "  </thead>\n",
       "  <tbody>\n",
       "    <tr>\n",
       "      <th>count</th>\n",
       "      <td>830.000000</td>\n",
       "      <td>830.000000</td>\n",
       "      <td>830.000000</td>\n",
       "      <td>830.000000</td>\n",
       "      <td>830.000000</td>\n",
       "      <td>830.000000</td>\n",
       "    </tr>\n",
       "    <tr>\n",
       "      <th>mean</th>\n",
       "      <td>4.393976</td>\n",
       "      <td>55.781928</td>\n",
       "      <td>2.781928</td>\n",
       "      <td>2.813253</td>\n",
       "      <td>2.915663</td>\n",
       "      <td>0.485542</td>\n",
       "    </tr>\n",
       "    <tr>\n",
       "      <th>std</th>\n",
       "      <td>1.888371</td>\n",
       "      <td>14.671782</td>\n",
       "      <td>1.242361</td>\n",
       "      <td>1.567175</td>\n",
       "      <td>0.350936</td>\n",
       "      <td>0.500092</td>\n",
       "    </tr>\n",
       "    <tr>\n",
       "      <th>min</th>\n",
       "      <td>0.000000</td>\n",
       "      <td>18.000000</td>\n",
       "      <td>1.000000</td>\n",
       "      <td>1.000000</td>\n",
       "      <td>1.000000</td>\n",
       "      <td>0.000000</td>\n",
       "    </tr>\n",
       "    <tr>\n",
       "      <th>25%</th>\n",
       "      <td>4.000000</td>\n",
       "      <td>46.000000</td>\n",
       "      <td>2.000000</td>\n",
       "      <td>1.000000</td>\n",
       "      <td>3.000000</td>\n",
       "      <td>0.000000</td>\n",
       "    </tr>\n",
       "    <tr>\n",
       "      <th>50%</th>\n",
       "      <td>4.000000</td>\n",
       "      <td>57.000000</td>\n",
       "      <td>3.000000</td>\n",
       "      <td>3.000000</td>\n",
       "      <td>3.000000</td>\n",
       "      <td>0.000000</td>\n",
       "    </tr>\n",
       "    <tr>\n",
       "      <th>75%</th>\n",
       "      <td>5.000000</td>\n",
       "      <td>66.000000</td>\n",
       "      <td>4.000000</td>\n",
       "      <td>4.000000</td>\n",
       "      <td>3.000000</td>\n",
       "      <td>1.000000</td>\n",
       "    </tr>\n",
       "    <tr>\n",
       "      <th>max</th>\n",
       "      <td>55.000000</td>\n",
       "      <td>96.000000</td>\n",
       "      <td>4.000000</td>\n",
       "      <td>5.000000</td>\n",
       "      <td>4.000000</td>\n",
       "      <td>1.000000</td>\n",
       "    </tr>\n",
       "  </tbody>\n",
       "</table>\n",
       "</div>"
      ],
      "text/plain": [
       "          BI-RADS         Age       Shape      Margin     Density    Severity\n",
       "count  830.000000  830.000000  830.000000  830.000000  830.000000  830.000000\n",
       "mean     4.393976   55.781928    2.781928    2.813253    2.915663    0.485542\n",
       "std      1.888371   14.671782    1.242361    1.567175    0.350936    0.500092\n",
       "min      0.000000   18.000000    1.000000    1.000000    1.000000    0.000000\n",
       "25%      4.000000   46.000000    2.000000    1.000000    3.000000    0.000000\n",
       "50%      4.000000   57.000000    3.000000    3.000000    3.000000    0.000000\n",
       "75%      5.000000   66.000000    4.000000    4.000000    3.000000    1.000000\n",
       "max     55.000000   96.000000    4.000000    5.000000    4.000000    1.000000"
      ]
     },
     "execution_count": 11,
     "metadata": {},
     "output_type": "execute_result"
    }
   ],
   "source": [
    "import pandas as pd\n",
    "feature_names =['BI-RADS', 'Age', 'Shape', 'Margin', 'Density', 'Severity']\n",
    "data = pd.read_csv('../MLCourse/mammographic_masses.data.txt', na_values=['?'], names = feature_names)\n",
    "data.dropna(inplace=True)\n",
    "data.describe()"
   ]
  },
  {
   "cell_type": "markdown",
   "id": "1c7d6328",
   "metadata": {},
   "source": [
    "Choose two large prime numbers p and q randomly and independently of each other such that \n",
    "gcd(pq,(p-1)(q-1))=1 This property is assured if both primes are of equal length.\n",
    "\n",
    "Compute n=pq and lambda = lcm(p-1,q-1). lcm means Least Common Multiple.\n",
    "\n",
    "Select random integer g where g is relative prime to n^2\n",
    "\n"
   ]
  },
  {
   "cell_type": "code",
   "execution_count": 12,
   "id": "99395807",
   "metadata": {},
   "outputs": [],
   "source": [
    "def gcd(a,b):\n",
    "    while b > 0:\n",
    "        a, b = b, a % b\n",
    "    return a\n",
    "    \n",
    "def lcm(a, b):\n",
    "    return a * b // gcd(a, b)\n",
    "\n",
    "n = p*q\n",
    "\n",
    "gLambda = lcm(p-1,q-1)\n",
    "\n",
    "g = getPrime(2,100)"
   ]
  },
  {
   "cell_type": "code",
   "execution_count": 13,
   "id": "03260c05",
   "metadata": {},
   "outputs": [],
   "source": [
    "l = (pow(g, gLambda, n*n)-1)//n\n",
    "gMu = modinv(l, n)"
   ]
  },
  {
   "cell_type": "code",
   "execution_count": 14,
   "id": "a4091db5",
   "metadata": {},
   "outputs": [],
   "source": [
    "def paillier_enc(m,n=n,g=g):\n",
    "    r = random.randint(0,n-1)\n",
    "\n",
    "    k1 = pow(g, m, n*n)\n",
    "    k2 = pow(r, n, n*n)\n",
    "\n",
    "    return (k1 * k2) % (n*n)"
   ]
  },
  {
   "cell_type": "code",
   "execution_count": 15,
   "id": "57e91327",
   "metadata": {},
   "outputs": [],
   "source": [
    "def  paillier_dec(cipher):\n",
    "    l = (pow(cipher, gLambda, n*n)-1) // n\n",
    "    return (l * gMu) % n"
   ]
  },
  {
   "cell_type": "code",
   "execution_count": 19,
   "id": "9e4cc472",
   "metadata": {},
   "outputs": [],
   "source": [
    "enc=paillier_enc(5)\n",
    "msg=paillier_enc(7)"
   ]
  },
  {
   "cell_type": "code",
   "execution_count": 24,
   "id": "75f0320c",
   "metadata": {},
   "outputs": [
    {
     "ename": "OverflowError",
     "evalue": "int too large to convert to float",
     "output_type": "error",
     "traceback": [
      "\u001b[1;31m---------------------------------------------------------------------------\u001b[0m",
      "\u001b[1;31mOverflowError\u001b[0m                             Traceback (most recent call last)",
      "\u001b[1;32m<ipython-input-24-768066901eb3>\u001b[0m in \u001b[0;36m<module>\u001b[1;34m\u001b[0m\n\u001b[1;32m----> 1\u001b[1;33m \u001b[0mprint\u001b[0m\u001b[1;33m(\u001b[0m\u001b[0mpaillier_dec\u001b[0m\u001b[1;33m(\u001b[0m\u001b[0menc\u001b[0m\u001b[1;33m**\u001b[0m\u001b[1;36m0.2\u001b[0m\u001b[1;33m)\u001b[0m\u001b[1;33m)\u001b[0m\u001b[1;33m\u001b[0m\u001b[1;33m\u001b[0m\u001b[0m\n\u001b[0m",
      "\u001b[1;31mOverflowError\u001b[0m: int too large to convert to float"
     ]
    }
   ],
   "source": [
    "\n"
   ]
  },
  {
   "cell_type": "code",
   "execution_count": 96,
   "id": "349ebca7",
   "metadata": {},
   "outputs": [
    {
     "name": "stdout",
     "output_type": "stream",
     "text": [
      "5\n"
     ]
    }
   ],
   "source": [
    "print(paillier_dec(enc))"
   ]
  },
  {
   "cell_type": "code",
   "execution_count": 1,
   "id": "e4d6ff26",
   "metadata": {},
   "outputs": [],
   "source": [
    "def gcd(ax,by):\n",
    "    while by > 0:\n",
    "        ax, by = by, ax % by\n",
    "    return ax\n",
    "\n"
   ]
  },
  {
   "cell_type": "code",
   "execution_count": 2,
   "id": "7fdcb437",
   "metadata": {},
   "outputs": [
    {
     "data": {
      "text/plain": [
       "39"
      ]
     },
     "execution_count": 2,
     "metadata": {},
     "output_type": "execute_result"
    }
   ],
   "source": [
    "gcd(78, 39)"
   ]
  },
  {
   "cell_type": "code",
   "execution_count": 3,
   "id": "9aace6ac",
   "metadata": {},
   "outputs": [
    {
     "data": {
      "text/plain": [
       "2"
      ]
     },
     "execution_count": 3,
     "metadata": {},
     "output_type": "execute_result"
    }
   ],
   "source": [
    "gcd(58,16)"
   ]
  },
  {
   "cell_type": "code",
   "execution_count": 4,
   "id": "ac7889c2",
   "metadata": {},
   "outputs": [
    {
     "data": {
      "text/plain": [
       "1"
      ]
     },
     "execution_count": 4,
     "metadata": {},
     "output_type": "execute_result"
    }
   ],
   "source": [
    "gcd(9, 17)"
   ]
  },
  {
   "cell_type": "code",
   "execution_count": 5,
   "id": "83fa2601",
   "metadata": {},
   "outputs": [
    {
     "data": {
      "text/plain": [
       "5"
      ]
     },
     "execution_count": 5,
     "metadata": {},
     "output_type": "execute_result"
    }
   ],
   "source": [
    "gcd(15, 20)"
   ]
  },
  {
   "cell_type": "code",
   "execution_count": 6,
   "id": "2d0ba963",
   "metadata": {},
   "outputs": [
    {
     "data": {
      "text/plain": [
       "2"
      ]
     },
     "execution_count": 6,
     "metadata": {},
     "output_type": "execute_result"
    }
   ],
   "source": [
    "gcd(22, 28)"
   ]
  },
  {
   "cell_type": "code",
   "execution_count": null,
   "id": "de958062",
   "metadata": {},
   "outputs": [],
   "source": []
  }
 ],
 "metadata": {
  "kernelspec": {
   "display_name": "Python 3 (ipykernel)",
   "language": "python",
   "name": "python3"
  },
  "language_info": {
   "codemirror_mode": {
    "name": "ipython",
    "version": 3
   },
   "file_extension": ".py",
   "mimetype": "text/x-python",
   "name": "python",
   "nbconvert_exporter": "python",
   "pygments_lexer": "ipython3",
   "version": "3.8.8"
  }
 },
 "nbformat": 4,
 "nbformat_minor": 5
}
