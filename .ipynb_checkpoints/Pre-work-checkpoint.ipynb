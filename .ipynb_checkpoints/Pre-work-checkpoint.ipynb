{
 "cells": [
  {
   "cell_type": "code",
   "execution_count": 18,
   "id": "c945abdd",
   "metadata": {},
   "outputs": [],
   "source": [
    "from sympy import isprime\n",
    "#Given two functions below will find the inverse modulo\n",
    "def egcd(num1, num2):\n",
    "    if num1 == 0:\n",
    "        return (num2, 0, 1)\n",
    "    else:\n",
    "        g, y, x = egcd(num2 % num1, num1)\n",
    "        return (g, x - (num2 // num1) * y, y)\n",
    "\n",
    "def modinv(a, m):\n",
    "    g, x, y = egcd(a, m)\n",
    "    if g != 1:\n",
    "        raise Exception('modular inverse does not exist')\n",
    "    else:\n",
    "        return x % m"
   ]
  },
  {
   "cell_type": "code",
   "execution_count": 59,
   "id": "d3ef27d6",
   "metadata": {},
   "outputs": [],
   "source": [
    "import random\n",
    "def getPrime():\n",
    "    n1, n2 = random.randint(250,300), random.randint(310,360)\n",
    "    k=4\n",
    "    while(isprime(k)==False): \n",
    "        k = random.randint(2**n1, 2**n2)\n",
    "    return k\n",
    "    "
   ]
  },
  {
   "cell_type": "code",
   "execution_count": 7,
   "id": "c32773c8",
   "metadata": {},
   "outputs": [],
   "source": [
    "import phe\n",
    "from phe import paillier\n",
    "import json"
   ]
  },
  {
   "cell_type": "code",
   "execution_count": 52,
   "id": "bf1ba080",
   "metadata": {},
   "outputs": [],
   "source": [
    "pub_key, priv_key = paillier.generate_paillier_keypair(n_length=128)"
   ]
  },
  {
   "cell_type": "code",
   "execution_count": 53,
   "id": "b7cf6dde",
   "metadata": {},
   "outputs": [
    {
     "name": "stdout",
     "output_type": "stream",
     "text": [
      "7.791\n"
     ]
    }
   ],
   "source": [
    "enc1=pub_key.encrypt(5.791)\n",
    "enc2=pub_key.encrypt(2)\n",
    "\n",
    "print(priv_key.decrypt((enc1+enc2)))"
   ]
  },
  {
   "cell_type": "code",
   "execution_count": null,
   "id": "b7e1a1ec",
   "metadata": {},
   "outputs": [],
   "source": []
  },
  {
   "cell_type": "code",
   "execution_count": 63,
   "id": "8cce8e29",
   "metadata": {},
   "outputs": [],
   "source": [
    "import rsa"
   ]
  },
  {
   "cell_type": "code",
   "execution_count": 64,
   "id": "78b9cb63",
   "metadata": {
    "scrolled": false
   },
   "outputs": [],
   "source": [
    "public_key, private_key=rsa.newkeys(512)"
   ]
  },
  {
   "cell_type": "code",
   "execution_count": 69,
   "id": "c6707491",
   "metadata": {},
   "outputs": [],
   "source": [
    "lst=[3727264081, 65537, 3349121513]\n",
    "e=lst[random.randint(0,2)]\n",
    "p, q = getPrime(), getPrime()\n",
    "N=p*q\n",
    "PHI=(p-1)*(q-1)\n",
    "dkey=modinv(e, PHI)"
   ]
  },
  {
   "cell_type": "code",
   "execution_count": 71,
   "id": "2a04e0cd",
   "metadata": {},
   "outputs": [
    {
     "name": "stdout",
     "output_type": "stream",
     "text": [
      "1739509269030696889965801567050580351138109919110867856465471334060674151556074454511953296859502311236239972415547819634852704984397216047451109480652703258824341335585771053703819457818533995130150010393\n",
      "2408\n"
     ]
    }
   ],
   "source": [
    "a=rsa.core.encrypt_int(56,e,N)\n",
    "b=rsa.core.encrypt_int(43,e,N)\n",
    "print(a)\n",
    "print(rsa.core.decrypt_int(a*b,dkey,N))"
   ]
  },
  {
   "cell_type": "code",
   "execution_count": 3,
   "id": "29b4904a",
   "metadata": {
    "scrolled": true
   },
   "outputs": [
    {
     "data": {
      "text/html": [
       "<div>\n",
       "<style scoped>\n",
       "    .dataframe tbody tr th:only-of-type {\n",
       "        vertical-align: middle;\n",
       "    }\n",
       "\n",
       "    .dataframe tbody tr th {\n",
       "        vertical-align: top;\n",
       "    }\n",
       "\n",
       "    .dataframe thead th {\n",
       "        text-align: right;\n",
       "    }\n",
       "</style>\n",
       "<table border=\"1\" class=\"dataframe\">\n",
       "  <thead>\n",
       "    <tr style=\"text-align: right;\">\n",
       "      <th></th>\n",
       "      <th>BI-RADS</th>\n",
       "      <th>Age</th>\n",
       "      <th>Shape</th>\n",
       "      <th>Margin</th>\n",
       "      <th>Density</th>\n",
       "      <th>Severity</th>\n",
       "    </tr>\n",
       "  </thead>\n",
       "  <tbody>\n",
       "    <tr>\n",
       "      <th>count</th>\n",
       "      <td>830.000000</td>\n",
       "      <td>830.000000</td>\n",
       "      <td>830.000000</td>\n",
       "      <td>830.000000</td>\n",
       "      <td>830.000000</td>\n",
       "      <td>830.000000</td>\n",
       "    </tr>\n",
       "    <tr>\n",
       "      <th>mean</th>\n",
       "      <td>4.393976</td>\n",
       "      <td>55.781928</td>\n",
       "      <td>2.781928</td>\n",
       "      <td>2.813253</td>\n",
       "      <td>2.915663</td>\n",
       "      <td>0.485542</td>\n",
       "    </tr>\n",
       "    <tr>\n",
       "      <th>std</th>\n",
       "      <td>1.888371</td>\n",
       "      <td>14.671782</td>\n",
       "      <td>1.242361</td>\n",
       "      <td>1.567175</td>\n",
       "      <td>0.350936</td>\n",
       "      <td>0.500092</td>\n",
       "    </tr>\n",
       "    <tr>\n",
       "      <th>min</th>\n",
       "      <td>0.000000</td>\n",
       "      <td>18.000000</td>\n",
       "      <td>1.000000</td>\n",
       "      <td>1.000000</td>\n",
       "      <td>1.000000</td>\n",
       "      <td>0.000000</td>\n",
       "    </tr>\n",
       "    <tr>\n",
       "      <th>25%</th>\n",
       "      <td>4.000000</td>\n",
       "      <td>46.000000</td>\n",
       "      <td>2.000000</td>\n",
       "      <td>1.000000</td>\n",
       "      <td>3.000000</td>\n",
       "      <td>0.000000</td>\n",
       "    </tr>\n",
       "    <tr>\n",
       "      <th>50%</th>\n",
       "      <td>4.000000</td>\n",
       "      <td>57.000000</td>\n",
       "      <td>3.000000</td>\n",
       "      <td>3.000000</td>\n",
       "      <td>3.000000</td>\n",
       "      <td>0.000000</td>\n",
       "    </tr>\n",
       "    <tr>\n",
       "      <th>75%</th>\n",
       "      <td>5.000000</td>\n",
       "      <td>66.000000</td>\n",
       "      <td>4.000000</td>\n",
       "      <td>4.000000</td>\n",
       "      <td>3.000000</td>\n",
       "      <td>1.000000</td>\n",
       "    </tr>\n",
       "    <tr>\n",
       "      <th>max</th>\n",
       "      <td>55.000000</td>\n",
       "      <td>96.000000</td>\n",
       "      <td>4.000000</td>\n",
       "      <td>5.000000</td>\n",
       "      <td>4.000000</td>\n",
       "      <td>1.000000</td>\n",
       "    </tr>\n",
       "  </tbody>\n",
       "</table>\n",
       "</div>"
      ],
      "text/plain": [
       "          BI-RADS         Age       Shape      Margin     Density    Severity\n",
       "count  830.000000  830.000000  830.000000  830.000000  830.000000  830.000000\n",
       "mean     4.393976   55.781928    2.781928    2.813253    2.915663    0.485542\n",
       "std      1.888371   14.671782    1.242361    1.567175    0.350936    0.500092\n",
       "min      0.000000   18.000000    1.000000    1.000000    1.000000    0.000000\n",
       "25%      4.000000   46.000000    2.000000    1.000000    3.000000    0.000000\n",
       "50%      4.000000   57.000000    3.000000    3.000000    3.000000    0.000000\n",
       "75%      5.000000   66.000000    4.000000    4.000000    3.000000    1.000000\n",
       "max     55.000000   96.000000    4.000000    5.000000    4.000000    1.000000"
      ]
     },
     "execution_count": 3,
     "metadata": {},
     "output_type": "execute_result"
    }
   ],
   "source": [
    "import pandas as pd\n",
    "feature_names =['BI-RADS', 'Age', 'Shape', 'Margin', 'Density', 'Severity']\n",
    "data = pd.read_csv('../MLCourse/mammographic_masses.data.txt', na_values=['?'], names = feature_names)\n",
    "data.dropna(inplace=True)\n",
    "data.describe()"
   ]
  },
  {
   "cell_type": "code",
   "execution_count": 25,
   "id": "9a3b8b9d",
   "metadata": {},
   "outputs": [],
   "source": [
    "all_features = data[feature_names].drop(['Severity'], axis=1).values\n",
    "all_classes = data['Severity'].values\n",
    "from sklearn.preprocessing import StandardScaler\n",
    "scaler = StandardScaler()\n",
    "scaler.fit(all_features)\n",
    "all_features=scaler.transform(all_features)\n",
    "print(all_features)"
   ]
  },
  {
   "cell_type": "code",
   "execution_count": null,
   "id": "fa316efb",
   "metadata": {},
   "outputs": [],
   "source": []
  },
  {
   "cell_type": "code",
   "execution_count": 42,
   "id": "0cab00ef",
   "metadata": {},
   "outputs": [],
   "source": [
    "enc_features = [pub_key.encrypt(x).ciphertext() for x in all_features[7]]\n"
   ]
  },
  {
   "cell_type": "code",
   "execution_count": null,
   "id": "f6d043d1",
   "metadata": {},
   "outputs": [],
   "source": []
  },
  {
   "cell_type": "code",
   "execution_count": 27,
   "id": "d35889ef",
   "metadata": {},
   "outputs": [],
   "source": [
    "from sklearn.model_selection import train_test_split\n",
    "\n",
    "X_train, X_test, y_train, y_test = train_test_split(all_features, all_classes, test_size=0.2, random_state=0)"
   ]
  },
  {
   "cell_type": "code",
   "execution_count": null,
   "id": "640e99a2",
   "metadata": {},
   "outputs": [],
   "source": []
  },
  {
   "cell_type": "code",
   "execution_count": null,
   "id": "470d5d9c",
   "metadata": {},
   "outputs": [],
   "source": []
  },
  {
   "cell_type": "code",
   "execution_count": null,
   "id": "0d5a0892",
   "metadata": {},
   "outputs": [],
   "source": []
  },
  {
   "cell_type": "code",
   "execution_count": 56,
   "id": "2cebf175",
   "metadata": {},
   "outputs": [],
   "source": [
    "param = {\n",
    "    'max_depth': 2,\n",
    "    'eta': 0.03,\n",
    "    'objective': 'binary:hinge',\n",
    "    'num_class': 1} \n",
    "epochs = 250"
   ]
  },
  {
   "cell_type": "code",
   "execution_count": 30,
   "id": "3e572803",
   "metadata": {},
   "outputs": [],
   "source": [
    "model = xgb.train(param, train, epochs)"
   ]
  },
  {
   "cell_type": "code",
   "execution_count": 31,
   "id": "3a6888cd",
   "metadata": {},
   "outputs": [],
   "source": [
    "predictions = model.predict(test)"
   ]
  },
  {
   "cell_type": "code",
   "execution_count": 44,
   "id": "fcd46749",
   "metadata": {},
   "outputs": [
    {
     "name": "stdout",
     "output_type": "stream",
     "text": [
      "[1.]\n"
     ]
    }
   ],
   "source": [
    "print(model.predict(enc_features_xgb))"
   ]
  },
  {
   "cell_type": "code",
   "execution_count": 47,
   "id": "0cda44b7",
   "metadata": {},
   "outputs": [
    {
     "name": "stdout",
     "output_type": "stream",
     "text": [
      "0\n"
     ]
    }
   ],
   "source": [
    "print(all_classes[7])"
   ]
  },
  {
   "cell_type": "code",
   "execution_count": null,
   "id": "bdae04ce",
   "metadata": {},
   "outputs": [],
   "source": []
  }
 ],
 "metadata": {
  "kernelspec": {
   "display_name": "Python 3",
   "language": "python",
   "name": "python3"
  },
  "language_info": {
   "codemirror_mode": {
    "name": "ipython",
    "version": 3
   },
   "file_extension": ".py",
   "mimetype": "text/x-python",
   "name": "python",
   "nbconvert_exporter": "python",
   "pygments_lexer": "ipython3",
   "version": "3.8.8"
  }
 },
 "nbformat": 4,
 "nbformat_minor": 5
}
